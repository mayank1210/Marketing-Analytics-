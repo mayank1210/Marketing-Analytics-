{
 "cells": [
  {
   "cell_type": "code",
   "execution_count": 1,
   "metadata": {},
   "outputs": [],
   "source": [
    "import pandas as pd\n",
    "import numpy as np\n",
    "import matplotlib.pyplot as plt\n",
    "import seaborn as sns\n",
    "%matplotlib inline"
   ]
  },
  {
   "cell_type": "code",
   "execution_count": 4,
   "metadata": {},
   "outputs": [],
   "source": [
    "letters = pd.read_csv('letter-recognition.csv', names= ['lettr','x-box','y-box','width','high','onpix','x-bar','y-bar','x2bar','y2bar','xybar','x2ybr','xy2br','x-ege','xegvy','y-ege','yegvx'])"
   ]
  },
  {
   "cell_type": "code",
   "execution_count": 5,
   "metadata": {},
   "outputs": [
    {
     "data": {
      "text/html": [
       "<div>\n",
       "<style>\n",
       "    .dataframe thead tr:only-child th {\n",
       "        text-align: right;\n",
       "    }\n",
       "\n",
       "    .dataframe thead th {\n",
       "        text-align: left;\n",
       "    }\n",
       "\n",
       "    .dataframe tbody tr th {\n",
       "        vertical-align: top;\n",
       "    }\n",
       "</style>\n",
       "<table border=\"1\" class=\"dataframe\">\n",
       "  <thead>\n",
       "    <tr style=\"text-align: right;\">\n",
       "      <th></th>\n",
       "      <th>lettr</th>\n",
       "      <th>x-box</th>\n",
       "      <th>y-box</th>\n",
       "      <th>width</th>\n",
       "      <th>high</th>\n",
       "      <th>onpix</th>\n",
       "      <th>x-bar</th>\n",
       "      <th>y-bar</th>\n",
       "      <th>x2bar</th>\n",
       "      <th>y2bar</th>\n",
       "      <th>xybar</th>\n",
       "      <th>x2ybr</th>\n",
       "      <th>xy2br</th>\n",
       "      <th>x-ege</th>\n",
       "      <th>xegvy</th>\n",
       "      <th>y-ege</th>\n",
       "      <th>yegvx</th>\n",
       "    </tr>\n",
       "  </thead>\n",
       "  <tbody>\n",
       "    <tr>\n",
       "      <th>0</th>\n",
       "      <td>T</td>\n",
       "      <td>2</td>\n",
       "      <td>8</td>\n",
       "      <td>3</td>\n",
       "      <td>5</td>\n",
       "      <td>1</td>\n",
       "      <td>8</td>\n",
       "      <td>13</td>\n",
       "      <td>0</td>\n",
       "      <td>6</td>\n",
       "      <td>6</td>\n",
       "      <td>10</td>\n",
       "      <td>8</td>\n",
       "      <td>0</td>\n",
       "      <td>8</td>\n",
       "      <td>0</td>\n",
       "      <td>8</td>\n",
       "    </tr>\n",
       "    <tr>\n",
       "      <th>1</th>\n",
       "      <td>I</td>\n",
       "      <td>5</td>\n",
       "      <td>12</td>\n",
       "      <td>3</td>\n",
       "      <td>7</td>\n",
       "      <td>2</td>\n",
       "      <td>10</td>\n",
       "      <td>5</td>\n",
       "      <td>5</td>\n",
       "      <td>4</td>\n",
       "      <td>13</td>\n",
       "      <td>3</td>\n",
       "      <td>9</td>\n",
       "      <td>2</td>\n",
       "      <td>8</td>\n",
       "      <td>4</td>\n",
       "      <td>10</td>\n",
       "    </tr>\n",
       "    <tr>\n",
       "      <th>2</th>\n",
       "      <td>D</td>\n",
       "      <td>4</td>\n",
       "      <td>11</td>\n",
       "      <td>6</td>\n",
       "      <td>8</td>\n",
       "      <td>6</td>\n",
       "      <td>10</td>\n",
       "      <td>6</td>\n",
       "      <td>2</td>\n",
       "      <td>6</td>\n",
       "      <td>10</td>\n",
       "      <td>3</td>\n",
       "      <td>7</td>\n",
       "      <td>3</td>\n",
       "      <td>7</td>\n",
       "      <td>3</td>\n",
       "      <td>9</td>\n",
       "    </tr>\n",
       "    <tr>\n",
       "      <th>3</th>\n",
       "      <td>N</td>\n",
       "      <td>7</td>\n",
       "      <td>11</td>\n",
       "      <td>6</td>\n",
       "      <td>6</td>\n",
       "      <td>3</td>\n",
       "      <td>5</td>\n",
       "      <td>9</td>\n",
       "      <td>4</td>\n",
       "      <td>6</td>\n",
       "      <td>4</td>\n",
       "      <td>4</td>\n",
       "      <td>10</td>\n",
       "      <td>6</td>\n",
       "      <td>10</td>\n",
       "      <td>2</td>\n",
       "      <td>8</td>\n",
       "    </tr>\n",
       "    <tr>\n",
       "      <th>4</th>\n",
       "      <td>G</td>\n",
       "      <td>2</td>\n",
       "      <td>1</td>\n",
       "      <td>3</td>\n",
       "      <td>1</td>\n",
       "      <td>1</td>\n",
       "      <td>8</td>\n",
       "      <td>6</td>\n",
       "      <td>6</td>\n",
       "      <td>6</td>\n",
       "      <td>6</td>\n",
       "      <td>5</td>\n",
       "      <td>9</td>\n",
       "      <td>1</td>\n",
       "      <td>7</td>\n",
       "      <td>5</td>\n",
       "      <td>10</td>\n",
       "    </tr>\n",
       "  </tbody>\n",
       "</table>\n",
       "</div>"
      ],
      "text/plain": [
       "  lettr  x-box  y-box  width  high  onpix  x-bar  y-bar  x2bar  y2bar  xybar  \\\n",
       "0     T      2      8      3     5      1      8     13      0      6      6   \n",
       "1     I      5     12      3     7      2     10      5      5      4     13   \n",
       "2     D      4     11      6     8      6     10      6      2      6     10   \n",
       "3     N      7     11      6     6      3      5      9      4      6      4   \n",
       "4     G      2      1      3     1      1      8      6      6      6      6   \n",
       "\n",
       "   x2ybr  xy2br  x-ege  xegvy  y-ege  yegvx  \n",
       "0     10      8      0      8      0      8  \n",
       "1      3      9      2      8      4     10  \n",
       "2      3      7      3      7      3      9  \n",
       "3      4     10      6     10      2      8  \n",
       "4      5      9      1      7      5     10  "
      ]
     },
     "execution_count": 5,
     "metadata": {},
     "output_type": "execute_result"
    }
   ],
   "source": [
    "letters.head()"
   ]
  },
  {
   "cell_type": "code",
   "execution_count": 6,
   "metadata": {},
   "outputs": [
    {
     "name": "stdout",
     "output_type": "stream",
     "text": [
      "<class 'pandas.core.frame.DataFrame'>\n",
      "RangeIndex: 20000 entries, 0 to 19999\n",
      "Data columns (total 17 columns):\n",
      "lettr    20000 non-null object\n",
      "x-box    20000 non-null int64\n",
      "y-box    20000 non-null int64\n",
      "width    20000 non-null int64\n",
      "high     20000 non-null int64\n",
      "onpix    20000 non-null int64\n",
      "x-bar    20000 non-null int64\n",
      "y-bar    20000 non-null int64\n",
      "x2bar    20000 non-null int64\n",
      "y2bar    20000 non-null int64\n",
      "xybar    20000 non-null int64\n",
      "x2ybr    20000 non-null int64\n",
      "xy2br    20000 non-null int64\n",
      "x-ege    20000 non-null int64\n",
      "xegvy    20000 non-null int64\n",
      "y-ege    20000 non-null int64\n",
      "yegvx    20000 non-null int64\n",
      "dtypes: int64(16), object(1)\n",
      "memory usage: 2.6+ MB\n"
     ]
    }
   ],
   "source": [
    "letters.info()"
   ]
  },
  {
   "cell_type": "code",
   "execution_count": 7,
   "metadata": {},
   "outputs": [],
   "source": [
    "from sklearn.model_selection import train_test_split"
   ]
  },
  {
   "cell_type": "code",
   "execution_count": 8,
   "metadata": {},
   "outputs": [],
   "source": [
    "X= letters.drop('lettr', axis=1)"
   ]
  },
  {
   "cell_type": "code",
   "execution_count": 10,
   "metadata": {},
   "outputs": [],
   "source": [
    "y= letters['lettr']"
   ]
  },
  {
   "cell_type": "code",
   "execution_count": 16,
   "metadata": {},
   "outputs": [],
   "source": [
    "X_train, X_test, y_train, y_test = train_test_split( X, y, test_size=0.2, random_state=42)"
   ]
  },
  {
   "cell_type": "code",
   "execution_count": 17,
   "metadata": {},
   "outputs": [],
   "source": [
    "from sklearn.svm import SVC"
   ]
  },
  {
   "cell_type": "code",
   "execution_count": 26,
   "metadata": {},
   "outputs": [],
   "source": [
    "model= SVC(kernel='linear')"
   ]
  },
  {
   "cell_type": "code",
   "execution_count": 27,
   "metadata": {},
   "outputs": [
    {
     "data": {
      "text/plain": [
       "SVC(C=1.0, cache_size=200, class_weight=None, coef0=0.0,\n",
       "  decision_function_shape='ovr', degree=3, gamma='auto', kernel='linear',\n",
       "  max_iter=-1, probability=False, random_state=None, shrinking=True,\n",
       "  tol=0.001, verbose=False)"
      ]
     },
     "execution_count": 27,
     "metadata": {},
     "output_type": "execute_result"
    }
   ],
   "source": [
    "model.fit(X_train, y_train)"
   ]
  },
  {
   "cell_type": "code",
   "execution_count": 28,
   "metadata": {},
   "outputs": [],
   "source": [
    "predictions= model.predict(X_test)"
   ]
  },
  {
   "cell_type": "code",
   "execution_count": 29,
   "metadata": {},
   "outputs": [
    {
     "name": "stdout",
     "output_type": "stream",
     "text": [
      "['Z' 'L' 'A' ..., 'Q' 'Y' 'Y']\n"
     ]
    }
   ],
   "source": [
    "print(predictions)"
   ]
  },
  {
   "cell_type": "code",
   "execution_count": 30,
   "metadata": {},
   "outputs": [],
   "source": [
    "from sklearn.metrics import classification_report, confusion_matrix"
   ]
  },
  {
   "cell_type": "code",
   "execution_count": 31,
   "metadata": {},
   "outputs": [
    {
     "name": "stdout",
     "output_type": "stream",
     "text": [
      "             precision    recall  f1-score   support\n",
      "\n",
      "          A       0.88      0.94      0.91       149\n",
      "          B       0.79      0.87      0.83       153\n",
      "          C       0.87      0.85      0.86       137\n",
      "          D       0.78      0.90      0.84       156\n",
      "          E       0.83      0.90      0.86       141\n",
      "          F       0.80      0.91      0.85       140\n",
      "          G       0.77      0.81      0.79       160\n",
      "          H       0.63      0.59      0.61       144\n",
      "          I       0.88      0.87      0.88       146\n",
      "          J       0.83      0.87      0.85       149\n",
      "          K       0.75      0.80      0.78       130\n",
      "          L       0.92      0.87      0.90       155\n",
      "          M       0.95      0.93      0.94       168\n",
      "          N       0.93      0.89      0.91       151\n",
      "          O       0.87      0.80      0.83       145\n",
      "          P       0.95      0.83      0.88       173\n",
      "          Q       0.85      0.78      0.81       166\n",
      "          R       0.77      0.81      0.79       160\n",
      "          S       0.75      0.73      0.74       171\n",
      "          T       0.90      0.90      0.90       163\n",
      "          U       0.95      0.90      0.92       183\n",
      "          V       0.91      0.90      0.90       158\n",
      "          W       0.90      0.95      0.93       148\n",
      "          X       0.93      0.90      0.92       154\n",
      "          Y       0.94      0.89      0.91       168\n",
      "          Z       0.86      0.82      0.84       132\n",
      "\n",
      "avg / total       0.86      0.85      0.85      4000\n",
      "\n"
     ]
    }
   ],
   "source": [
    "print(classification_report(y_test, predictions))"
   ]
  },
  {
   "cell_type": "code",
   "execution_count": 25,
   "metadata": {},
   "outputs": [
    {
     "name": "stdout",
     "output_type": "stream",
     "text": [
      "[[149   0   0   0   0   0   0   0   0   0   0   0   0   0   0   0   0   0\n",
      "    0   0   0   0   0   0   0   0]\n",
      " [  0 150   0   1   0   0   1   0   0   0   0   0   0   0   0   0   0   0\n",
      "    0   0   0   1   0   0   0   0]\n",
      " [  0   0 131   0   1   0   1   1   0   0   0   0   0   0   3   0   0   0\n",
      "    0   0   0   0   0   0   0   0]\n",
      " [  0   0   0 153   0   0   0   2   0   0   0   0   0   0   1   0   0   0\n",
      "    0   0   0   0   0   0   0   0]\n",
      " [  0   0   0   0 139   0   0   0   0   0   0   1   0   0   0   0   0   0\n",
      "    0   0   0   0   0   0   0   1]\n",
      " [  0   0   0   0   1 136   0   0   0   0   0   0   0   0   0   2   0   0\n",
      "    0   0   0   0   0   1   0   0]\n",
      " [  0   0   1   2   1   0 154   0   0   0   0   0   0   0   0   0   0   0\n",
      "    1   0   0   1   0   0   0   0]\n",
      " [  0   2   0   2   0   0   0 126   0   0   4   0   0   0   1   0   0   8\n",
      "    0   0   1   0   0   0   0   0]\n",
      " [  0   0   0   0   0   0   0   0 138   7   0   0   0   0   0   0   0   0\n",
      "    0   0   0   0   0   1   0   0]\n",
      " [  0   0   0   0   0   1   0   0   1 147   0   0   0   0   0   0   0   0\n",
      "    0   0   0   0   0   0   0   0]\n",
      " [  0   0   0   0   0   0   0   1   0   0 122   0   0   0   0   0   0   5\n",
      "    0   0   0   0   0   2   0   0]\n",
      " [  0   0   0   0   1   0   1   0   0   0   0 152   0   0   0   0   0   1\n",
      "    0   0   0   0   0   0   0   0]\n",
      " [  0   1   0   0   0   0   0   0   0   0   0   0 167   0   0   0   0   0\n",
      "    0   0   0   0   0   0   0   0]\n",
      " [  0   0   0   1   0   0   0   1   0   0   0   0   1 144   1   0   0   3\n",
      "    0   0   0   0   0   0   0   0]\n",
      " [  0   0   0   3   0   0   0   0   0   0   0   0   0   0 140   0   1   0\n",
      "    0   0   1   0   0   0   0   0]\n",
      " [  0   0   0   0   0   6   0   0   0   0   0   1   0   0   0 165   1   0\n",
      "    0   0   0   0   0   0   0   0]\n",
      " [  0   0   0   1   0   0   0   0   0   0   0   0   0   0   1   1 163   0\n",
      "    0   0   0   0   0   0   0   0]\n",
      " [  0   4   0   2   0   0   0   1   0   0   1   0   0   0   0   0   0 152\n",
      "    0   0   0   0   0   0   0   0]\n",
      " [  0   0   0   0   1   0   0   0   0   0   0   0   0   0   0   0   0   0\n",
      "  170   0   0   0   0   0   0   0]\n",
      " [  0   0   0   0   0   0   0   0   0   0   0   0   0   0   0   0   0   0\n",
      "    0 163   0   0   0   0   0   0]\n",
      " [  0   0   0   0   0   0   0   1   0   0   0   0   1   0   0   0   0   0\n",
      "    0   0 181   0   0   0   0   0]\n",
      " [  0   5   0   0   0   1   0   0   0   0   0   0   0   0   0   1   0   0\n",
      "    0   0   0 150   1   0   0   0]\n",
      " [  0   0   0   0   0   0   0   0   0   0   0   0   0   0   0   0   0   0\n",
      "    0   0   0   0 148   0   0   0]\n",
      " [  0   0   0   0   0   0   0   0   0   0   0   0   0   0   0   0   0   0\n",
      "    1   0   0   0   0 153   0   0]\n",
      " [  0   0   0   0   0   0   0   0   0   0   0   0   0   0   0   0   0   0\n",
      "    0   0   0   0   0   0 168   0]\n",
      " [  0   0   0   0   0   0   0   0   0   0   0   0   0   0   0   0   0   1\n",
      "    0   0   0   0   0   0   0 131]]\n"
     ]
    }
   ],
   "source": [
    "print(confusion_matrix(y_test, predictions))"
   ]
  },
  {
   "cell_type": "code",
   "execution_count": 32,
   "metadata": {},
   "outputs": [],
   "source": [
    "model= SVC()"
   ]
  },
  {
   "cell_type": "code",
   "execution_count": 33,
   "metadata": {},
   "outputs": [
    {
     "data": {
      "text/plain": [
       "SVC(C=1.0, cache_size=200, class_weight=None, coef0=0.0,\n",
       "  decision_function_shape='ovr', degree=3, gamma='auto', kernel='rbf',\n",
       "  max_iter=-1, probability=False, random_state=None, shrinking=True,\n",
       "  tol=0.001, verbose=False)"
      ]
     },
     "execution_count": 33,
     "metadata": {},
     "output_type": "execute_result"
    }
   ],
   "source": [
    "model.fit(X_train, y_train)"
   ]
  },
  {
   "cell_type": "code",
   "execution_count": 34,
   "metadata": {},
   "outputs": [],
   "source": [
    "predictions2 = model.predict(X_test)"
   ]
  },
  {
   "cell_type": "code",
   "execution_count": 35,
   "metadata": {},
   "outputs": [
    {
     "name": "stdout",
     "output_type": "stream",
     "text": [
      "['T' 'L' 'A' ..., 'Q' 'Y' 'Y']\n"
     ]
    }
   ],
   "source": [
    "print(predictions2)"
   ]
  },
  {
   "cell_type": "code",
   "execution_count": 37,
   "metadata": {},
   "outputs": [
    {
     "name": "stdout",
     "output_type": "stream",
     "text": [
      "             precision    recall  f1-score   support\n",
      "\n",
      "          A       1.00      1.00      1.00       149\n",
      "          B       0.93      0.98      0.95       153\n",
      "          C       0.99      0.96      0.97       137\n",
      "          D       0.93      0.98      0.95       156\n",
      "          E       0.97      0.99      0.98       141\n",
      "          F       0.94      0.97      0.96       140\n",
      "          G       0.98      0.96      0.97       160\n",
      "          H       0.95      0.88      0.91       144\n",
      "          I       0.99      0.95      0.97       146\n",
      "          J       0.95      0.99      0.97       149\n",
      "          K       0.96      0.94      0.95       130\n",
      "          L       0.99      0.98      0.98       155\n",
      "          M       0.99      0.99      0.99       168\n",
      "          N       1.00      0.95      0.98       151\n",
      "          O       0.95      0.97      0.96       145\n",
      "          P       0.98      0.95      0.96       173\n",
      "          Q       0.99      0.98      0.98       166\n",
      "          R       0.89      0.95      0.92       160\n",
      "          S       0.99      0.99      0.99       171\n",
      "          T       1.00      1.00      1.00       163\n",
      "          U       0.99      0.99      0.99       183\n",
      "          V       0.99      0.95      0.97       158\n",
      "          W       0.99      1.00      1.00       148\n",
      "          X       0.97      0.99      0.98       154\n",
      "          Y       1.00      1.00      1.00       168\n",
      "          Z       0.99      0.99      0.99       132\n",
      "\n",
      "avg / total       0.97      0.97      0.97      4000\n",
      "\n"
     ]
    }
   ],
   "source": [
    "print(classification_report(y_test, predictions2))"
   ]
  },
  {
   "cell_type": "code",
   "execution_count": 38,
   "metadata": {},
   "outputs": [
    {
     "name": "stdout",
     "output_type": "stream",
     "text": [
      "[[149   0   0   0   0   0   0   0   0   0   0   0   0   0   0   0   0   0\n",
      "    0   0   0   0   0   0   0   0]\n",
      " [  0 150   0   1   0   0   1   0   0   0   0   0   0   0   0   0   0   0\n",
      "    0   0   0   1   0   0   0   0]\n",
      " [  0   0 131   0   1   0   1   1   0   0   0   0   0   0   3   0   0   0\n",
      "    0   0   0   0   0   0   0   0]\n",
      " [  0   0   0 153   0   0   0   2   0   0   0   0   0   0   1   0   0   0\n",
      "    0   0   0   0   0   0   0   0]\n",
      " [  0   0   0   0 139   0   0   0   0   0   0   1   0   0   0   0   0   0\n",
      "    0   0   0   0   0   0   0   1]\n",
      " [  0   0   0   0   1 136   0   0   0   0   0   0   0   0   0   2   0   0\n",
      "    0   0   0   0   0   1   0   0]\n",
      " [  0   0   1   2   1   0 154   0   0   0   0   0   0   0   0   0   0   0\n",
      "    1   0   0   1   0   0   0   0]\n",
      " [  0   2   0   2   0   0   0 126   0   0   4   0   0   0   1   0   0   8\n",
      "    0   0   1   0   0   0   0   0]\n",
      " [  0   0   0   0   0   0   0   0 138   7   0   0   0   0   0   0   0   0\n",
      "    0   0   0   0   0   1   0   0]\n",
      " [  0   0   0   0   0   1   0   0   1 147   0   0   0   0   0   0   0   0\n",
      "    0   0   0   0   0   0   0   0]\n",
      " [  0   0   0   0   0   0   0   1   0   0 122   0   0   0   0   0   0   5\n",
      "    0   0   0   0   0   2   0   0]\n",
      " [  0   0   0   0   1   0   1   0   0   0   0 152   0   0   0   0   0   1\n",
      "    0   0   0   0   0   0   0   0]\n",
      " [  0   1   0   0   0   0   0   0   0   0   0   0 167   0   0   0   0   0\n",
      "    0   0   0   0   0   0   0   0]\n",
      " [  0   0   0   1   0   0   0   1   0   0   0   0   1 144   1   0   0   3\n",
      "    0   0   0   0   0   0   0   0]\n",
      " [  0   0   0   3   0   0   0   0   0   0   0   0   0   0 140   0   1   0\n",
      "    0   0   1   0   0   0   0   0]\n",
      " [  0   0   0   0   0   6   0   0   0   0   0   1   0   0   0 165   1   0\n",
      "    0   0   0   0   0   0   0   0]\n",
      " [  0   0   0   1   0   0   0   0   0   0   0   0   0   0   1   1 163   0\n",
      "    0   0   0   0   0   0   0   0]\n",
      " [  0   4   0   2   0   0   0   1   0   0   1   0   0   0   0   0   0 152\n",
      "    0   0   0   0   0   0   0   0]\n",
      " [  0   0   0   0   1   0   0   0   0   0   0   0   0   0   0   0   0   0\n",
      "  170   0   0   0   0   0   0   0]\n",
      " [  0   0   0   0   0   0   0   0   0   0   0   0   0   0   0   0   0   0\n",
      "    0 163   0   0   0   0   0   0]\n",
      " [  0   0   0   0   0   0   0   1   0   0   0   0   1   0   0   0   0   0\n",
      "    0   0 181   0   0   0   0   0]\n",
      " [  0   5   0   0   0   1   0   0   0   0   0   0   0   0   0   1   0   0\n",
      "    0   0   0 150   1   0   0   0]\n",
      " [  0   0   0   0   0   0   0   0   0   0   0   0   0   0   0   0   0   0\n",
      "    0   0   0   0 148   0   0   0]\n",
      " [  0   0   0   0   0   0   0   0   0   0   0   0   0   0   0   0   0   0\n",
      "    1   0   0   0   0 153   0   0]\n",
      " [  0   0   0   0   0   0   0   0   0   0   0   0   0   0   0   0   0   0\n",
      "    0   0   0   0   0   0 168   0]\n",
      " [  0   0   0   0   0   0   0   0   0   0   0   0   0   0   0   0   0   1\n",
      "    0   0   0   0   0   0   0 131]]\n"
     ]
    }
   ],
   "source": [
    "print(confusion_matrix(y_test, predictions2))"
   ]
  },
  {
   "cell_type": "code",
   "execution_count": null,
   "metadata": {},
   "outputs": [],
   "source": []
  }
 ],
 "metadata": {
  "kernelspec": {
   "display_name": "Python 2",
   "language": "python",
   "name": "python2"
  },
  "language_info": {
   "codemirror_mode": {
    "name": "ipython",
    "version": 2
   },
   "file_extension": ".py",
   "mimetype": "text/x-python",
   "name": "python",
   "nbconvert_exporter": "python",
   "pygments_lexer": "ipython2",
   "version": "2.7.12"
  }
 },
 "nbformat": 4,
 "nbformat_minor": 2
}
