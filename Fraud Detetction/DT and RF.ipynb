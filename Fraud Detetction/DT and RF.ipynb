{
 "cells": [
  {
   "cell_type": "code",
   "execution_count": 250,
   "metadata": {
    "collapsed": true
   },
   "outputs": [],
   "source": [
    "import pandas as pd\n",
    "import numpy as np\n",
    "import xlrd\n",
    "import random \n",
    "import math\n",
    "import matplotlib.pyplot as plt\n",
    "import seaborn as sns"
   ]
  },
  {
   "cell_type": "code",
   "execution_count": 251,
   "metadata": {
    "collapsed": true
   },
   "outputs": [],
   "source": [
    "%matplotlib inline"
   ]
  },
  {
   "cell_type": "code",
   "execution_count": 252,
   "metadata": {},
   "outputs": [
    {
     "data": {
      "text/html": [
       "<div>\n",
       "<style>\n",
       "    .dataframe thead tr:only-child th {\n",
       "        text-align: right;\n",
       "    }\n",
       "\n",
       "    .dataframe thead th {\n",
       "        text-align: left;\n",
       "    }\n",
       "\n",
       "    .dataframe tbody tr th {\n",
       "        vertical-align: top;\n",
       "    }\n",
       "</style>\n",
       "<table border=\"1\" class=\"dataframe\">\n",
       "  <thead>\n",
       "    <tr style=\"text-align: right;\">\n",
       "      <th></th>\n",
       "      <th>checking_balance</th>\n",
       "      <th>months_loan_duration</th>\n",
       "      <th>credit_history</th>\n",
       "      <th>purpose</th>\n",
       "      <th>amount</th>\n",
       "      <th>savings_balance</th>\n",
       "      <th>employment_duration</th>\n",
       "      <th>percent_of_income</th>\n",
       "      <th>years_at_residence</th>\n",
       "      <th>age</th>\n",
       "      <th>other_credit</th>\n",
       "      <th>housing</th>\n",
       "      <th>existing_loans_count</th>\n",
       "      <th>job</th>\n",
       "      <th>dependents</th>\n",
       "      <th>phone</th>\n",
       "      <th>default</th>\n",
       "    </tr>\n",
       "  </thead>\n",
       "  <tbody>\n",
       "    <tr>\n",
       "      <th>0</th>\n",
       "      <td>&lt; 0 DM</td>\n",
       "      <td>6</td>\n",
       "      <td>critical</td>\n",
       "      <td>furniture/appliances</td>\n",
       "      <td>1169</td>\n",
       "      <td>unknown</td>\n",
       "      <td>&gt; 7 years</td>\n",
       "      <td>4</td>\n",
       "      <td>4</td>\n",
       "      <td>67</td>\n",
       "      <td>none</td>\n",
       "      <td>own</td>\n",
       "      <td>2</td>\n",
       "      <td>skilled</td>\n",
       "      <td>1</td>\n",
       "      <td>yes</td>\n",
       "      <td>no</td>\n",
       "    </tr>\n",
       "    <tr>\n",
       "      <th>1</th>\n",
       "      <td>1 - 200 DM</td>\n",
       "      <td>48</td>\n",
       "      <td>good</td>\n",
       "      <td>furniture/appliances</td>\n",
       "      <td>5951</td>\n",
       "      <td>&lt; 100 DM</td>\n",
       "      <td>1 - 4 years</td>\n",
       "      <td>2</td>\n",
       "      <td>2</td>\n",
       "      <td>22</td>\n",
       "      <td>none</td>\n",
       "      <td>own</td>\n",
       "      <td>1</td>\n",
       "      <td>skilled</td>\n",
       "      <td>1</td>\n",
       "      <td>no</td>\n",
       "      <td>yes</td>\n",
       "    </tr>\n",
       "    <tr>\n",
       "      <th>2</th>\n",
       "      <td>unknown</td>\n",
       "      <td>12</td>\n",
       "      <td>critical</td>\n",
       "      <td>education</td>\n",
       "      <td>2096</td>\n",
       "      <td>&lt; 100 DM</td>\n",
       "      <td>4 - 7 years</td>\n",
       "      <td>2</td>\n",
       "      <td>3</td>\n",
       "      <td>49</td>\n",
       "      <td>none</td>\n",
       "      <td>own</td>\n",
       "      <td>1</td>\n",
       "      <td>unskilled</td>\n",
       "      <td>2</td>\n",
       "      <td>no</td>\n",
       "      <td>no</td>\n",
       "    </tr>\n",
       "    <tr>\n",
       "      <th>3</th>\n",
       "      <td>&lt; 0 DM</td>\n",
       "      <td>42</td>\n",
       "      <td>good</td>\n",
       "      <td>furniture/appliances</td>\n",
       "      <td>7882</td>\n",
       "      <td>&lt; 100 DM</td>\n",
       "      <td>4 - 7 years</td>\n",
       "      <td>2</td>\n",
       "      <td>4</td>\n",
       "      <td>45</td>\n",
       "      <td>none</td>\n",
       "      <td>other</td>\n",
       "      <td>1</td>\n",
       "      <td>skilled</td>\n",
       "      <td>2</td>\n",
       "      <td>no</td>\n",
       "      <td>no</td>\n",
       "    </tr>\n",
       "    <tr>\n",
       "      <th>4</th>\n",
       "      <td>&lt; 0 DM</td>\n",
       "      <td>24</td>\n",
       "      <td>poor</td>\n",
       "      <td>car</td>\n",
       "      <td>4870</td>\n",
       "      <td>&lt; 100 DM</td>\n",
       "      <td>1 - 4 years</td>\n",
       "      <td>3</td>\n",
       "      <td>4</td>\n",
       "      <td>53</td>\n",
       "      <td>none</td>\n",
       "      <td>other</td>\n",
       "      <td>2</td>\n",
       "      <td>skilled</td>\n",
       "      <td>2</td>\n",
       "      <td>no</td>\n",
       "      <td>yes</td>\n",
       "    </tr>\n",
       "  </tbody>\n",
       "</table>\n",
       "</div>"
      ],
      "text/plain": [
       "  checking_balance  months_loan_duration credit_history               purpose  \\\n",
       "0           < 0 DM                     6       critical  furniture/appliances   \n",
       "1       1 - 200 DM                    48           good  furniture/appliances   \n",
       "2          unknown                    12       critical             education   \n",
       "3           < 0 DM                    42           good  furniture/appliances   \n",
       "4           < 0 DM                    24           poor                   car   \n",
       "\n",
       "   amount savings_balance employment_duration  percent_of_income  \\\n",
       "0    1169         unknown           > 7 years                  4   \n",
       "1    5951        < 100 DM         1 - 4 years                  2   \n",
       "2    2096        < 100 DM         4 - 7 years                  2   \n",
       "3    7882        < 100 DM         4 - 7 years                  2   \n",
       "4    4870        < 100 DM         1 - 4 years                  3   \n",
       "\n",
       "   years_at_residence  age other_credit housing  existing_loans_count  \\\n",
       "0                   4   67         none     own                     2   \n",
       "1                   2   22         none     own                     1   \n",
       "2                   3   49         none     own                     1   \n",
       "3                   4   45         none   other                     1   \n",
       "4                   4   53         none   other                     2   \n",
       "\n",
       "         job  dependents phone default  \n",
       "0    skilled           1   yes      no  \n",
       "1    skilled           1    no     yes  \n",
       "2  unskilled           2    no      no  \n",
       "3    skilled           2    no      no  \n",
       "4    skilled           2    no     yes  "
      ]
     },
     "execution_count": 252,
     "metadata": {},
     "output_type": "execute_result"
    }
   ],
   "source": [
    "df = pd.read_csv('credit.csv')\n",
    "df.head()"
   ]
  },
  {
   "cell_type": "code",
   "execution_count": 253,
   "metadata": {},
   "outputs": [
    {
     "name": "stdout",
     "output_type": "stream",
     "text": [
      "<class 'pandas.core.frame.DataFrame'>\n",
      "RangeIndex: 1000 entries, 0 to 999\n",
      "Data columns (total 17 columns):\n",
      "checking_balance        1000 non-null object\n",
      "months_loan_duration    1000 non-null int64\n",
      "credit_history          1000 non-null object\n",
      "purpose                 1000 non-null object\n",
      "amount                  1000 non-null int64\n",
      "savings_balance         1000 non-null object\n",
      "employment_duration     1000 non-null object\n",
      "percent_of_income       1000 non-null int64\n",
      "years_at_residence      1000 non-null int64\n",
      "age                     1000 non-null int64\n",
      "other_credit            1000 non-null object\n",
      "housing                 1000 non-null object\n",
      "existing_loans_count    1000 non-null int64\n",
      "job                     1000 non-null object\n",
      "dependents              1000 non-null int64\n",
      "phone                   1000 non-null object\n",
      "default                 1000 non-null object\n",
      "dtypes: int64(7), object(10)\n",
      "memory usage: 132.9+ KB\n"
     ]
    }
   ],
   "source": [
    "df.info()"
   ]
  },
  {
   "cell_type": "code",
   "execution_count": 254,
   "metadata": {},
   "outputs": [
    {
     "data": {
      "text/html": [
       "<div>\n",
       "<style>\n",
       "    .dataframe thead tr:only-child th {\n",
       "        text-align: right;\n",
       "    }\n",
       "\n",
       "    .dataframe thead th {\n",
       "        text-align: left;\n",
       "    }\n",
       "\n",
       "    .dataframe tbody tr th {\n",
       "        vertical-align: top;\n",
       "    }\n",
       "</style>\n",
       "<table border=\"1\" class=\"dataframe\">\n",
       "  <thead>\n",
       "    <tr style=\"text-align: right;\">\n",
       "      <th></th>\n",
       "      <th>months_loan_duration</th>\n",
       "      <th>amount</th>\n",
       "      <th>percent_of_income</th>\n",
       "      <th>years_at_residence</th>\n",
       "      <th>age</th>\n",
       "      <th>existing_loans_count</th>\n",
       "      <th>dependents</th>\n",
       "    </tr>\n",
       "  </thead>\n",
       "  <tbody>\n",
       "    <tr>\n",
       "      <th>count</th>\n",
       "      <td>1000.000000</td>\n",
       "      <td>1000.000000</td>\n",
       "      <td>1000.000000</td>\n",
       "      <td>1000.000000</td>\n",
       "      <td>1000.000000</td>\n",
       "      <td>1000.000000</td>\n",
       "      <td>1000.000000</td>\n",
       "    </tr>\n",
       "    <tr>\n",
       "      <th>mean</th>\n",
       "      <td>20.903000</td>\n",
       "      <td>3271.258000</td>\n",
       "      <td>2.973000</td>\n",
       "      <td>2.845000</td>\n",
       "      <td>35.546000</td>\n",
       "      <td>1.407000</td>\n",
       "      <td>1.155000</td>\n",
       "    </tr>\n",
       "    <tr>\n",
       "      <th>std</th>\n",
       "      <td>12.058814</td>\n",
       "      <td>2822.736876</td>\n",
       "      <td>1.118715</td>\n",
       "      <td>1.103718</td>\n",
       "      <td>11.375469</td>\n",
       "      <td>0.577654</td>\n",
       "      <td>0.362086</td>\n",
       "    </tr>\n",
       "    <tr>\n",
       "      <th>min</th>\n",
       "      <td>4.000000</td>\n",
       "      <td>250.000000</td>\n",
       "      <td>1.000000</td>\n",
       "      <td>1.000000</td>\n",
       "      <td>19.000000</td>\n",
       "      <td>1.000000</td>\n",
       "      <td>1.000000</td>\n",
       "    </tr>\n",
       "    <tr>\n",
       "      <th>25%</th>\n",
       "      <td>12.000000</td>\n",
       "      <td>1365.500000</td>\n",
       "      <td>2.000000</td>\n",
       "      <td>2.000000</td>\n",
       "      <td>27.000000</td>\n",
       "      <td>1.000000</td>\n",
       "      <td>1.000000</td>\n",
       "    </tr>\n",
       "    <tr>\n",
       "      <th>50%</th>\n",
       "      <td>18.000000</td>\n",
       "      <td>2319.500000</td>\n",
       "      <td>3.000000</td>\n",
       "      <td>3.000000</td>\n",
       "      <td>33.000000</td>\n",
       "      <td>1.000000</td>\n",
       "      <td>1.000000</td>\n",
       "    </tr>\n",
       "    <tr>\n",
       "      <th>75%</th>\n",
       "      <td>24.000000</td>\n",
       "      <td>3972.250000</td>\n",
       "      <td>4.000000</td>\n",
       "      <td>4.000000</td>\n",
       "      <td>42.000000</td>\n",
       "      <td>2.000000</td>\n",
       "      <td>1.000000</td>\n",
       "    </tr>\n",
       "    <tr>\n",
       "      <th>max</th>\n",
       "      <td>72.000000</td>\n",
       "      <td>18424.000000</td>\n",
       "      <td>4.000000</td>\n",
       "      <td>4.000000</td>\n",
       "      <td>75.000000</td>\n",
       "      <td>4.000000</td>\n",
       "      <td>2.000000</td>\n",
       "    </tr>\n",
       "  </tbody>\n",
       "</table>\n",
       "</div>"
      ],
      "text/plain": [
       "       months_loan_duration        amount  percent_of_income  \\\n",
       "count           1000.000000   1000.000000        1000.000000   \n",
       "mean              20.903000   3271.258000           2.973000   \n",
       "std               12.058814   2822.736876           1.118715   \n",
       "min                4.000000    250.000000           1.000000   \n",
       "25%               12.000000   1365.500000           2.000000   \n",
       "50%               18.000000   2319.500000           3.000000   \n",
       "75%               24.000000   3972.250000           4.000000   \n",
       "max               72.000000  18424.000000           4.000000   \n",
       "\n",
       "       years_at_residence          age  existing_loans_count   dependents  \n",
       "count         1000.000000  1000.000000           1000.000000  1000.000000  \n",
       "mean             2.845000    35.546000              1.407000     1.155000  \n",
       "std              1.103718    11.375469              0.577654     0.362086  \n",
       "min              1.000000    19.000000              1.000000     1.000000  \n",
       "25%              2.000000    27.000000              1.000000     1.000000  \n",
       "50%              3.000000    33.000000              1.000000     1.000000  \n",
       "75%              4.000000    42.000000              2.000000     1.000000  \n",
       "max              4.000000    75.000000              4.000000     2.000000  "
      ]
     },
     "execution_count": 254,
     "metadata": {},
     "output_type": "execute_result"
    }
   ],
   "source": [
    "df.describe()"
   ]
  },
  {
   "cell_type": "code",
   "execution_count": 255,
   "metadata": {
    "collapsed": true
   },
   "outputs": [],
   "source": [
    "#converting string to integer\n",
    "#default means that whether the loan applicant was unable to meet the agreed payment terms and went into default. \n",
    "#A total of 30 percent of the loans went into default that means 1 is bad and 0 is good number. \n",
    "#Bank wants to increase 0 and not 1.\n",
    "\n",
    "df['default'].replace('yes', 1,inplace=True)\n",
    "df['default'].replace('no', 0,inplace=True)\n",
    "df['phone'].replace('yes', 1,inplace=True)\n",
    "df['phone'].replace('no', 0,inplace=True)\n"
   ]
  },
  {
   "cell_type": "code",
   "execution_count": 256,
   "metadata": {},
   "outputs": [
    {
     "data": {
      "text/plain": [
       "0    700\n",
       "1    300\n",
       "Name: default, dtype: int64"
      ]
     },
     "execution_count": 256,
     "metadata": {},
     "output_type": "execute_result"
    }
   ],
   "source": [
    "df['default'].value_counts()"
   ]
  },
  {
   "cell_type": "code",
   "execution_count": 257,
   "metadata": {},
   "outputs": [
    {
     "data": {
      "text/plain": [
       "checking_balance          4\n",
       "months_loan_duration     33\n",
       "credit_history            5\n",
       "purpose                   6\n",
       "amount                  921\n",
       "savings_balance           5\n",
       "employment_duration       5\n",
       "percent_of_income         4\n",
       "years_at_residence        4\n",
       "age                      53\n",
       "other_credit              3\n",
       "housing                   3\n",
       "existing_loans_count      4\n",
       "job                       4\n",
       "dependents                2\n",
       "phone                     2\n",
       "default                   2\n",
       "dtype: int64"
      ]
     },
     "execution_count": 257,
     "metadata": {},
     "output_type": "execute_result"
    }
   ],
   "source": [
    "df.nunique()"
   ]
  },
  {
   "cell_type": "code",
   "execution_count": 258,
   "metadata": {
    "collapsed": true
   },
   "outputs": [],
   "source": [
    "# Initial Data Exploration"
   ]
  },
  {
   "cell_type": "code",
   "execution_count": 259,
   "metadata": {},
   "outputs": [
    {
     "data": {
      "text/plain": [
       "<seaborn.axisgrid.FacetGrid at 0x25bc9f7c978>"
      ]
     },
     "execution_count": 259,
     "metadata": {},
     "output_type": "execute_result"
    },
    {
     "data": {
      "text/plain": [
       "<matplotlib.figure.Figure at 0x25bca228710>"
      ]
     },
     "metadata": {},
     "output_type": "display_data"
    },
    {
     "data": {
      "image/png": "[encoded data removed]",
      "text/plain": [
       "<matplotlib.figure.Figure at 0x25bc9f7c208>"
      ]
     },
     "metadata": {},
     "output_type": "display_data"
    }
   ],
   "source": [
    "plt.figure(figsize=(10,6))\n",
    "sns.lmplot('months_loan_duration','amount', df)"
   ]
  },
  {
   "cell_type": "code",
   "execution_count": 260,
   "metadata": {},
   "outputs": [
    {
     "data": {
      "text/plain": [
       "<matplotlib.text.Text at 0x25bc9d274a8>"
      ]
     },
     "execution_count": 260,
     "metadata": {},
     "output_type": "execute_result"
    },
    {
     "data": {
      "image/png": "[encoded data removed]",
      "text/plain": [
       "<matplotlib.figure.Figure at 0x25bc9fc9a58>"
      ]
     },
     "metadata": {},
     "output_type": "display_data"
    }
   ],
   "source": [
    "plt.figure(figsize=(11,7))\n",
    "df[df['default']==1]['amount'].hist(alpha=0.5,color='blue',\n",
    "                                              bins=30,label='Default=1')\n",
    "df[df['default']==0]['amount'].hist(alpha=0.5,color='red',\n",
    "                                              bins=30,label='Default=0')\n",
    "plt.legend()\n",
    "plt.xlabel('Amount')\n",
    "plt.ylabel('Count')\n",
    "#this shows that most of the people who borrow less are the defaulters."
   ]
  },
  {
   "cell_type": "code",
   "execution_count": 261,
   "metadata": {},
   "outputs": [
    {
     "data": {
      "text/plain": [
       "<matplotlib.axes._subplots.AxesSubplot at 0x25bc7797d30>"
      ]
     },
     "execution_count": 261,
     "metadata": {},
     "output_type": "execute_result"
    },
    {
     "data": {
      "image/png": "[encoded data removed]",
      "text/plain": [
       "<matplotlib.figure.Figure at 0x25bc9cc4048>"
      ]
     },
     "metadata": {},
     "output_type": "display_data"
    }
   ],
   "source": [
    "plt.figure(figsize=(11,7))\n",
    "sns.countplot(x='credit_history',hue='default',data=df,palette='Set1')\n",
    "#this gives the better undersyamding of where are the maximum defaulters\n",
    "#most of the defaulters come from the \"good\" and \"critical\" credit history."
   ]
  },
  {
   "cell_type": "code",
   "execution_count": 262,
   "metadata": {},
   "outputs": [
    {
     "data": {
      "text/plain": [
       "<matplotlib.axes._subplots.AxesSubplot at 0x25bcb4525f8>"
      ]
     },
     "execution_count": 262,
     "metadata": {},
     "output_type": "execute_result"
    },
    {
     "data": {
      "image/png": "[encoded data removed]",
      "text/plain": [
       "<matplotlib.figure.Figure at 0x25bc7a11e48>"
      ]
     },
     "metadata": {},
     "output_type": "display_data"
    }
   ],
   "source": [
    "sns.boxplot(x='default',y='amount',data=df,palette='winter')"
   ]
  },
  {
   "cell_type": "code",
   "execution_count": 263,
   "metadata": {},
   "outputs": [
    {
     "data": {
      "text/plain": [
       "<matplotlib.axes._subplots.AxesSubplot at 0x25bcb4ab630>"
      ]
     },
     "execution_count": 263,
     "metadata": {},
     "output_type": "execute_result"
    },
    {
     "data": {
      "image/png": "[encoded data removed]",
      "text/plain": [
       "<matplotlib.figure.Figure at 0x25bcb463b70>"
      ]
     },
     "metadata": {},
     "output_type": "display_data"
    }
   ],
   "source": [
    "sns.countplot(x='checking_balance',hue='default',data=df,palette='Set1')"
   ]
  },
  {
   "cell_type": "code",
   "execution_count": 264,
   "metadata": {},
   "outputs": [
    {
     "data": {
      "text/plain": [
       "<function seaborn.axisgrid.pairplot>"
      ]
     },
     "execution_count": 264,
     "metadata": {},
     "output_type": "execute_result"
    },
    {
     "data": {
      "image/png": "[encoded data removed]",
      "text/plain": [
       "<matplotlib.figure.Figure at 0x25bcb475be0>"
      ]
     },
     "metadata": {},
     "output_type": "display_data"
    }
   ],
   "source": [
    "sns.countplot(x='job',hue='default',data=df,palette='Set1')\n",
    "sns.pairplot"
   ]
  },
  {
   "cell_type": "code",
   "execution_count": 265,
   "metadata": {},
   "outputs": [
    {
     "data": {
      "text/plain": [
       "4    413\n",
       "2    308\n",
       "3    149\n",
       "1    130\n",
       "Name: years_at_residence, dtype: int64"
      ]
     },
     "execution_count": 265,
     "metadata": {},
     "output_type": "execute_result"
    }
   ],
   "source": [
    "df['years_at_residence'].value_counts(dropna = False)"
   ]
  },
  {
   "cell_type": "code",
   "execution_count": 266,
   "metadata": {},
   "outputs": [
    {
     "data": {
      "text/plain": [
       "<matplotlib.axes._subplots.AxesSubplot at 0x25bcb74e6d8>"
      ]
     },
     "execution_count": 266,
     "metadata": {},
     "output_type": "execute_result"
    },
    {
     "data": {
      "image/png": "[encoded data removed]",
      "text/plain": [
       "<matplotlib.figure.Figure at 0x25bcb7d8748>"
      ]
     },
     "metadata": {},
     "output_type": "display_data"
    }
   ],
   "source": [
    "plt.figure(figsize=(12,8))\n",
    "sns.heatmap(df.corr(), cmap = 'coolwarm', annot=True)"
   ]
  },
  {
   "cell_type": "code",
   "execution_count": 267,
   "metadata": {
    "collapsed": true
   },
   "outputs": [],
   "source": [
    "cat_cb1 = ['savings_balance','checking_balance','months_loan_duration','credit_history','purpose','employment_duration',\n",
    "          'other_credit','housing','job']"
   ]
  },
  {
   "cell_type": "code",
   "execution_count": 268,
   "metadata": {
    "collapsed": true
   },
   "outputs": [],
   "source": [
    "df2 = pd.get_dummies(df,columns=cat_cb1,drop_first=True)"
   ]
  },
  {
   "cell_type": "code",
   "execution_count": 269,
   "metadata": {},
   "outputs": [
    {
     "data": {
      "text/html": [
       "<div>\n",
       "<style>\n",
       "    .dataframe thead tr:only-child th {\n",
       "        text-align: right;\n",
       "    }\n",
       "\n",
       "    .dataframe thead th {\n",
       "        text-align: left;\n",
       "    }\n",
       "\n",
       "    .dataframe tbody tr th {\n",
       "        vertical-align: top;\n",
       "    }\n",
       "</style>\n",
       "<table border=\"1\" class=\"dataframe\">\n",
       "  <thead>\n",
       "    <tr style=\"text-align: right;\">\n",
       "      <th></th>\n",
       "      <th>amount</th>\n",
       "      <th>percent_of_income</th>\n",
       "      <th>years_at_residence</th>\n",
       "      <th>age</th>\n",
       "      <th>existing_loans_count</th>\n",
       "      <th>dependents</th>\n",
       "      <th>phone</th>\n",
       "      <th>default</th>\n",
       "      <th>savings_balance_500 - 1000 DM</th>\n",
       "      <th>savings_balance_&lt; 100 DM</th>\n",
       "      <th>...</th>\n",
       "      <th>employment_duration_&lt; 1 year</th>\n",
       "      <th>employment_duration_&gt; 7 years</th>\n",
       "      <th>employment_duration_unemployed</th>\n",
       "      <th>other_credit_none</th>\n",
       "      <th>other_credit_store</th>\n",
       "      <th>housing_own</th>\n",
       "      <th>housing_rent</th>\n",
       "      <th>job_skilled</th>\n",
       "      <th>job_unemployed</th>\n",
       "      <th>job_unskilled</th>\n",
       "    </tr>\n",
       "  </thead>\n",
       "  <tbody>\n",
       "    <tr>\n",
       "      <th>0</th>\n",
       "      <td>1169</td>\n",
       "      <td>4</td>\n",
       "      <td>4</td>\n",
       "      <td>67</td>\n",
       "      <td>2</td>\n",
       "      <td>1</td>\n",
       "      <td>1</td>\n",
       "      <td>0</td>\n",
       "      <td>0</td>\n",
       "      <td>0</td>\n",
       "      <td>...</td>\n",
       "      <td>0</td>\n",
       "      <td>1</td>\n",
       "      <td>0</td>\n",
       "      <td>1</td>\n",
       "      <td>0</td>\n",
       "      <td>1</td>\n",
       "      <td>0</td>\n",
       "      <td>1</td>\n",
       "      <td>0</td>\n",
       "      <td>0</td>\n",
       "    </tr>\n",
       "    <tr>\n",
       "      <th>1</th>\n",
       "      <td>5951</td>\n",
       "      <td>2</td>\n",
       "      <td>2</td>\n",
       "      <td>22</td>\n",
       "      <td>1</td>\n",
       "      <td>1</td>\n",
       "      <td>0</td>\n",
       "      <td>1</td>\n",
       "      <td>0</td>\n",
       "      <td>1</td>\n",
       "      <td>...</td>\n",
       "      <td>0</td>\n",
       "      <td>0</td>\n",
       "      <td>0</td>\n",
       "      <td>1</td>\n",
       "      <td>0</td>\n",
       "      <td>1</td>\n",
       "      <td>0</td>\n",
       "      <td>1</td>\n",
       "      <td>0</td>\n",
       "      <td>0</td>\n",
       "    </tr>\n",
       "    <tr>\n",
       "      <th>2</th>\n",
       "      <td>2096</td>\n",
       "      <td>2</td>\n",
       "      <td>3</td>\n",
       "      <td>49</td>\n",
       "      <td>1</td>\n",
       "      <td>2</td>\n",
       "      <td>0</td>\n",
       "      <td>0</td>\n",
       "      <td>0</td>\n",
       "      <td>1</td>\n",
       "      <td>...</td>\n",
       "      <td>0</td>\n",
       "      <td>0</td>\n",
       "      <td>0</td>\n",
       "      <td>1</td>\n",
       "      <td>0</td>\n",
       "      <td>1</td>\n",
       "      <td>0</td>\n",
       "      <td>0</td>\n",
       "      <td>0</td>\n",
       "      <td>1</td>\n",
       "    </tr>\n",
       "    <tr>\n",
       "      <th>3</th>\n",
       "      <td>7882</td>\n",
       "      <td>2</td>\n",
       "      <td>4</td>\n",
       "      <td>45</td>\n",
       "      <td>1</td>\n",
       "      <td>2</td>\n",
       "      <td>0</td>\n",
       "      <td>0</td>\n",
       "      <td>0</td>\n",
       "      <td>1</td>\n",
       "      <td>...</td>\n",
       "      <td>0</td>\n",
       "      <td>0</td>\n",
       "      <td>0</td>\n",
       "      <td>1</td>\n",
       "      <td>0</td>\n",
       "      <td>0</td>\n",
       "      <td>0</td>\n",
       "      <td>1</td>\n",
       "      <td>0</td>\n",
       "      <td>0</td>\n",
       "    </tr>\n",
       "    <tr>\n",
       "      <th>4</th>\n",
       "      <td>4870</td>\n",
       "      <td>3</td>\n",
       "      <td>4</td>\n",
       "      <td>53</td>\n",
       "      <td>2</td>\n",
       "      <td>2</td>\n",
       "      <td>0</td>\n",
       "      <td>1</td>\n",
       "      <td>0</td>\n",
       "      <td>1</td>\n",
       "      <td>...</td>\n",
       "      <td>0</td>\n",
       "      <td>0</td>\n",
       "      <td>0</td>\n",
       "      <td>1</td>\n",
       "      <td>0</td>\n",
       "      <td>0</td>\n",
       "      <td>0</td>\n",
       "      <td>1</td>\n",
       "      <td>0</td>\n",
       "      <td>0</td>\n",
       "    </tr>\n",
       "  </tbody>\n",
       "</table>\n",
       "<p>5 rows × 67 columns</p>\n",
       "</div>"
      ],
      "text/plain": [
       "   amount  percent_of_income  years_at_residence  age  existing_loans_count  \\\n",
       "0    1169                  4                   4   67                     2   \n",
       "1    5951                  2                   2   22                     1   \n",
       "2    2096                  2                   3   49                     1   \n",
       "3    7882                  2                   4   45                     1   \n",
       "4    4870                  3                   4   53                     2   \n",
       "\n",
       "   dependents  phone  default  savings_balance_500 - 1000 DM  \\\n",
       "0           1      1        0                              0   \n",
       "1           1      0        1                              0   \n",
       "2           2      0        0                              0   \n",
       "3           2      0        0                              0   \n",
       "4           2      0        1                              0   \n",
       "\n",
       "   savings_balance_< 100 DM      ...        employment_duration_< 1 year  \\\n",
       "0                         0      ...                                   0   \n",
       "1                         1      ...                                   0   \n",
       "2                         1      ...                                   0   \n",
       "3                         1      ...                                   0   \n",
       "4                         1      ...                                   0   \n",
       "\n",
       "   employment_duration_> 7 years  employment_duration_unemployed  \\\n",
       "0                              1                               0   \n",
       "1                              0                               0   \n",
       "2                              0                               0   \n",
       "3                              0                               0   \n",
       "4                              0                               0   \n",
       "\n",
       "   other_credit_none  other_credit_store  housing_own  housing_rent  \\\n",
       "0                  1                   0            1             0   \n",
       "1                  1                   0            1             0   \n",
       "2                  1                   0            1             0   \n",
       "3                  1                   0            0             0   \n",
       "4                  1                   0            0             0   \n",
       "\n",
       "   job_skilled  job_unemployed  job_unskilled  \n",
       "0            1               0              0  \n",
       "1            1               0              0  \n",
       "2            0               0              1  \n",
       "3            1               0              0  \n",
       "4            1               0              0  \n",
       "\n",
       "[5 rows x 67 columns]"
      ]
     },
     "execution_count": 269,
     "metadata": {},
     "output_type": "execute_result"
    }
   ],
   "source": [
    "df2.head()"
   ]
  },
  {
   "cell_type": "code",
   "execution_count": 270,
   "metadata": {},
   "outputs": [
    {
     "name": "stdout",
     "output_type": "stream",
     "text": [
      "<class 'pandas.core.frame.DataFrame'>\n",
      "RangeIndex: 1000 entries, 0 to 999\n",
      "Data columns (total 67 columns):\n",
      "amount                             1000 non-null int64\n",
      "percent_of_income                  1000 non-null int64\n",
      "years_at_residence                 1000 non-null int64\n",
      "age                                1000 non-null int64\n",
      "existing_loans_count               1000 non-null int64\n",
      "dependents                         1000 non-null int64\n",
      "phone                              1000 non-null int64\n",
      "default                            1000 non-null int64\n",
      "savings_balance_500 - 1000 DM      1000 non-null uint8\n",
      "savings_balance_< 100 DM           1000 non-null uint8\n",
      "savings_balance_> 1000 DM          1000 non-null uint8\n",
      "savings_balance_unknown            1000 non-null uint8\n",
      "checking_balance_< 0 DM            1000 non-null uint8\n",
      "checking_balance_> 200 DM          1000 non-null uint8\n",
      "checking_balance_unknown           1000 non-null uint8\n",
      "months_loan_duration_5             1000 non-null uint8\n",
      "months_loan_duration_6             1000 non-null uint8\n",
      "months_loan_duration_7             1000 non-null uint8\n",
      "months_loan_duration_8             1000 non-null uint8\n",
      "months_loan_duration_9             1000 non-null uint8\n",
      "months_loan_duration_10            1000 non-null uint8\n",
      "months_loan_duration_11            1000 non-null uint8\n",
      "months_loan_duration_12            1000 non-null uint8\n",
      "months_loan_duration_13            1000 non-null uint8\n",
      "months_loan_duration_14            1000 non-null uint8\n",
      "months_loan_duration_15            1000 non-null uint8\n",
      "months_loan_duration_16            1000 non-null uint8\n",
      "months_loan_duration_18            1000 non-null uint8\n",
      "months_loan_duration_20            1000 non-null uint8\n",
      "months_loan_duration_21            1000 non-null uint8\n",
      "months_loan_duration_22            1000 non-null uint8\n",
      "months_loan_duration_24            1000 non-null uint8\n",
      "months_loan_duration_26            1000 non-null uint8\n",
      "months_loan_duration_27            1000 non-null uint8\n",
      "months_loan_duration_28            1000 non-null uint8\n",
      "months_loan_duration_30            1000 non-null uint8\n",
      "months_loan_duration_33            1000 non-null uint8\n",
      "months_loan_duration_36            1000 non-null uint8\n",
      "months_loan_duration_39            1000 non-null uint8\n",
      "months_loan_duration_40            1000 non-null uint8\n",
      "months_loan_duration_42            1000 non-null uint8\n",
      "months_loan_duration_45            1000 non-null uint8\n",
      "months_loan_duration_47            1000 non-null uint8\n",
      "months_loan_duration_48            1000 non-null uint8\n",
      "months_loan_duration_54            1000 non-null uint8\n",
      "months_loan_duration_60            1000 non-null uint8\n",
      "months_loan_duration_72            1000 non-null uint8\n",
      "credit_history_good                1000 non-null uint8\n",
      "credit_history_perfect             1000 non-null uint8\n",
      "credit_history_poor                1000 non-null uint8\n",
      "credit_history_very good           1000 non-null uint8\n",
      "purpose_car                        1000 non-null uint8\n",
      "purpose_car0                       1000 non-null uint8\n",
      "purpose_education                  1000 non-null uint8\n",
      "purpose_furniture/appliances       1000 non-null uint8\n",
      "purpose_renovations                1000 non-null uint8\n",
      "employment_duration_4 - 7 years    1000 non-null uint8\n",
      "employment_duration_< 1 year       1000 non-null uint8\n",
      "employment_duration_> 7 years      1000 non-null uint8\n",
      "employment_duration_unemployed     1000 non-null uint8\n",
      "other_credit_none                  1000 non-null uint8\n",
      "other_credit_store                 1000 non-null uint8\n",
      "housing_own                        1000 non-null uint8\n",
      "housing_rent                       1000 non-null uint8\n",
      "job_skilled                        1000 non-null uint8\n",
      "job_unemployed                     1000 non-null uint8\n",
      "job_unskilled                      1000 non-null uint8\n",
      "dtypes: int64(8), uint8(59)\n",
      "memory usage: 120.2 KB\n"
     ]
    }
   ],
   "source": [
    "df2.info()"
   ]
  },
  {
   "cell_type": "code",
   "execution_count": 271,
   "metadata": {
    "collapsed": true
   },
   "outputs": [],
   "source": [
    "from sklearn.model_selection import train_test_split"
   ]
  },
  {
   "cell_type": "code",
   "execution_count": 272,
   "metadata": {
    "collapsed": true
   },
   "outputs": [],
   "source": [
    "X1 = df2.drop(['default'],axis=1)\n",
    "y1 = df2['default']\n",
    "X1_train, X1_test, y1_train, y1_test = train_test_split(X1, y1, test_size=0.30, random_state=101)\n"
   ]
  },
  {
   "cell_type": "code",
   "execution_count": 273,
   "metadata": {},
   "outputs": [
    {
     "name": "stdout",
     "output_type": "stream",
     "text": [
      "<class 'pandas.core.frame.DataFrame'>\n",
      "RangeIndex: 1000 entries, 0 to 999\n",
      "Data columns (total 66 columns):\n",
      "amount                             1000 non-null int64\n",
      "percent_of_income                  1000 non-null int64\n",
      "years_at_residence                 1000 non-null int64\n",
      "age                                1000 non-null int64\n",
      "existing_loans_count               1000 non-null int64\n",
      "dependents                         1000 non-null int64\n",
      "phone                              1000 non-null int64\n",
      "savings_balance_500 - 1000 DM      1000 non-null uint8\n",
      "savings_balance_< 100 DM           1000 non-null uint8\n",
      "savings_balance_> 1000 DM          1000 non-null uint8\n",
      "savings_balance_unknown            1000 non-null uint8\n",
      "checking_balance_< 0 DM            1000 non-null uint8\n",
      "checking_balance_> 200 DM          1000 non-null uint8\n",
      "checking_balance_unknown           1000 non-null uint8\n",
      "months_loan_duration_5             1000 non-null uint8\n",
      "months_loan_duration_6             1000 non-null uint8\n",
      "months_loan_duration_7             1000 non-null uint8\n",
      "months_loan_duration_8             1000 non-null uint8\n",
      "months_loan_duration_9             1000 non-null uint8\n",
      "months_loan_duration_10            1000 non-null uint8\n",
      "months_loan_duration_11            1000 non-null uint8\n",
      "months_loan_duration_12            1000 non-null uint8\n",
      "months_loan_duration_13            1000 non-null uint8\n",
      "months_loan_duration_14            1000 non-null uint8\n",
      "months_loan_duration_15            1000 non-null uint8\n",
      "months_loan_duration_16            1000 non-null uint8\n",
      "months_loan_duration_18            1000 non-null uint8\n",
      "months_loan_duration_20            1000 non-null uint8\n",
      "months_loan_duration_21            1000 non-null uint8\n",
      "months_loan_duration_22            1000 non-null uint8\n",
      "months_loan_duration_24            1000 non-null uint8\n",
      "months_loan_duration_26            1000 non-null uint8\n",
      "months_loan_duration_27            1000 non-null uint8\n",
      "months_loan_duration_28            1000 non-null uint8\n",
      "months_loan_duration_30            1000 non-null uint8\n",
      "months_loan_duration_33            1000 non-null uint8\n",
      "months_loan_duration_36            1000 non-null uint8\n",
      "months_loan_duration_39            1000 non-null uint8\n",
      "months_loan_duration_40            1000 non-null uint8\n",
      "months_loan_duration_42            1000 non-null uint8\n",
      "months_loan_duration_45            1000 non-null uint8\n",
      "months_loan_duration_47            1000 non-null uint8\n",
      "months_loan_duration_48            1000 non-null uint8\n",
      "months_loan_duration_54            1000 non-null uint8\n",
      "months_loan_duration_60            1000 non-null uint8\n",
      "months_loan_duration_72            1000 non-null uint8\n",
      "credit_history_good                1000 non-null uint8\n",
      "credit_history_perfect             1000 non-null uint8\n",
      "credit_history_poor                1000 non-null uint8\n",
      "credit_history_very good           1000 non-null uint8\n",
      "purpose_car                        1000 non-null uint8\n",
      "purpose_car0                       1000 non-null uint8\n",
      "purpose_education                  1000 non-null uint8\n",
      "purpose_furniture/appliances       1000 non-null uint8\n",
      "purpose_renovations                1000 non-null uint8\n",
      "employment_duration_4 - 7 years    1000 non-null uint8\n",
      "employment_duration_< 1 year       1000 non-null uint8\n",
      "employment_duration_> 7 years      1000 non-null uint8\n",
      "employment_duration_unemployed     1000 non-null uint8\n",
      "other_credit_none                  1000 non-null uint8\n",
      "other_credit_store                 1000 non-null uint8\n",
      "housing_own                        1000 non-null uint8\n",
      "housing_rent                       1000 non-null uint8\n",
      "job_skilled                        1000 non-null uint8\n",
      "job_unemployed                     1000 non-null uint8\n",
      "job_unskilled                      1000 non-null uint8\n",
      "dtypes: int64(7), uint8(59)\n",
      "memory usage: 112.4 KB\n"
     ]
    }
   ],
   "source": [
    "X1.info()"
   ]
  },
  {
   "cell_type": "code",
   "execution_count": 274,
   "metadata": {
    "collapsed": true
   },
   "outputs": [],
   "source": [
    "from sklearn.tree import DecisionTreeClassifier"
   ]
  },
  {
   "cell_type": "code",
   "execution_count": 275,
   "metadata": {
    "collapsed": true
   },
   "outputs": [],
   "source": [
    "dtree1 = DecisionTreeClassifier()"
   ]
  },
  {
   "cell_type": "code",
   "execution_count": 276,
   "metadata": {},
   "outputs": [
    {
     "data": {
      "text/plain": [
       "DecisionTreeClassifier(class_weight=None, criterion='gini', max_depth=None,\n",
       "            max_features=None, max_leaf_nodes=None,\n",
       "            min_impurity_decrease=0.0, min_impurity_split=None,\n",
       "            min_samples_leaf=1, min_samples_split=2,\n",
       "            min_weight_fraction_leaf=0.0, presort=False, random_state=None,\n",
       "            splitter='best')"
      ]
     },
     "execution_count": 276,
     "metadata": {},
     "output_type": "execute_result"
    }
   ],
   "source": [
    "dtree1.fit(X1_train,y1_train)"
   ]
  },
  {
   "cell_type": "code",
   "execution_count": 277,
   "metadata": {
    "collapsed": true
   },
   "outputs": [],
   "source": [
    "predictions1 = dtree1.predict(X1_test)"
   ]
  },
  {
   "cell_type": "code",
   "execution_count": 278,
   "metadata": {
    "collapsed": true
   },
   "outputs": [],
   "source": [
    "from sklearn.metrics import classification_report,confusion_matrix"
   ]
  },
  {
   "cell_type": "code",
   "execution_count": 279,
   "metadata": {},
   "outputs": [
    {
     "name": "stdout",
     "output_type": "stream",
     "text": [
      "             precision    recall  f1-score   support\n",
      "\n",
      "          0       0.74      0.76      0.75       204\n",
      "          1       0.47      0.44      0.45        96\n",
      "\n",
      "avg / total       0.65      0.66      0.66       300\n",
      "\n",
      "/\n",
      "[[156  48]\n",
      " [ 54  42]]\n"
     ]
    }
   ],
   "source": [
    "print(classification_report(y1_test,predictions1))\n",
    "print('/')\n",
    "print(confusion_matrix(y1_test,predictions1))"
   ]
  },
  {
   "cell_type": "code",
   "execution_count": 280,
   "metadata": {
    "collapsed": true
   },
   "outputs": [],
   "source": [
    "from sklearn.ensemble import RandomForestClassifier"
   ]
  },
  {
   "cell_type": "code",
   "execution_count": 281,
   "metadata": {
    "collapsed": true
   },
   "outputs": [],
   "source": [
    "rfc1 = RandomForestClassifier(n_estimators=6)"
   ]
  },
  {
   "cell_type": "code",
   "execution_count": 282,
   "metadata": {},
   "outputs": [
    {
     "data": {
      "text/plain": [
       "RandomForestClassifier(bootstrap=True, class_weight=None, criterion='gini',\n",
       "            max_depth=None, max_features='auto', max_leaf_nodes=None,\n",
       "            min_impurity_decrease=0.0, min_impurity_split=None,\n",
       "            min_samples_leaf=1, min_samples_split=2,\n",
       "            min_weight_fraction_leaf=0.0, n_estimators=6, n_jobs=1,\n",
       "            oob_score=False, random_state=None, verbose=0,\n",
       "            warm_start=False)"
      ]
     },
     "execution_count": 282,
     "metadata": {},
     "output_type": "execute_result"
    }
   ],
   "source": [
    "rfc1.fit(X1_train,y1_train)"
   ]
  },
  {
   "cell_type": "code",
   "execution_count": 283,
   "metadata": {
    "collapsed": true
   },
   "outputs": [],
   "source": [
    "rfc1_predictions1 = rfc1.predict(X1_test)"
   ]
  },
  {
   "cell_type": "code",
   "execution_count": 284,
   "metadata": {},
   "outputs": [
    {
     "name": "stdout",
     "output_type": "stream",
     "text": [
      "             precision    recall  f1-score   support\n",
      "\n",
      "          0       0.73      0.91      0.81       204\n",
      "          1       0.58      0.27      0.37        96\n",
      "\n",
      "avg / total       0.68      0.70      0.67       300\n",
      "\n",
      "/\n",
      "[[185  19]\n",
      " [ 70  26]]\n"
     ]
    }
   ],
   "source": [
    "print(classification_report(y1_test,rfc1_predictions1))\n",
    "print('/')\n",
    "print(confusion_matrix(y1_test,rfc1_predictions1))"
   ]
  },
  {
   "cell_type": "code",
   "execution_count": 285,
   "metadata": {},
   "outputs": [
    {
     "data": {
      "text/plain": [
       "6"
      ]
     },
     "execution_count": 285,
     "metadata": {},
     "output_type": "execute_result"
    }
   ],
   "source": [
    "rfc1.n_estimators"
   ]
  },
  {
   "cell_type": "code",
   "execution_count": 286,
   "metadata": {},
   "outputs": [],
   "source": [
    "from sklearn.grid_search import GridSearchCV"
   ]
  },
  {
   "cell_type": "code",
   "execution_count": 287,
   "metadata": {
    "collapsed": true
   },
   "outputs": [],
   "source": [
    "from sklearn.metrics import roc_auc_score"
   ]
  },
  {
   "cell_type": "code",
   "execution_count": 288,
   "metadata": {},
   "outputs": [],
   "source": [
    "param_grid = {'n_estimators': [10, 50, 100, 150, 200, 300, 400]}\n"
   ]
  },
  {
   "cell_type": "code",
   "execution_count": 289,
   "metadata": {},
   "outputs": [
    {
     "name": "stdout",
     "output_type": "stream",
     "text": [
      "Fitting 3 folds for each of 7 candidates, totalling 21 fits\n",
      "[CV] n_estimators=10 .................................................\n",
      "[CV] ........................ n_estimators=10, score=0.726496 -   0.0s\n",
      "[CV] n_estimators=10 .................................................\n",
      "[CV] ........................ n_estimators=10, score=0.721030 -   0.0s\n",
      "[CV] n_estimators=10 .................................................\n",
      "[CV] ........................ n_estimators=10, score=0.759657 -   0.0s\n",
      "[CV] n_estimators=50 .................................................\n"
     ]
    },
    {
     "name": "stderr",
     "output_type": "stream",
     "text": [
      "[Parallel(n_jobs=1)]: Done   1 out of   1 | elapsed:    0.0s remaining:    0.0s\n",
      "[Parallel(n_jobs=1)]: Done   2 out of   2 | elapsed:    0.0s remaining:    0.0s\n"
     ]
    },
    {
     "name": "stdout",
     "output_type": "stream",
     "text": [
      "[CV] ........................ n_estimators=50, score=0.726496 -   0.1s\n",
      "[CV] n_estimators=50 .................................................\n",
      "[CV] ........................ n_estimators=50, score=0.708155 -   0.0s\n",
      "[CV] n_estimators=50 .................................................\n",
      "[CV] ........................ n_estimators=50, score=0.751073 -   0.0s\n",
      "[CV] n_estimators=100 ................................................\n",
      "[CV] ....................... n_estimators=100, score=0.743590 -   0.1s\n",
      "[CV] n_estimators=100 ................................................\n",
      "[CV] ....................... n_estimators=100, score=0.742489 -   0.1s\n",
      "[CV] n_estimators=100 ................................................\n",
      "[CV] ....................... n_estimators=100, score=0.763948 -   0.1s\n",
      "[CV] n_estimators=150 ................................................\n",
      "[CV] ....................... n_estimators=150, score=0.743590 -   0.2s\n",
      "[CV] n_estimators=150 ................................................\n",
      "[CV] ....................... n_estimators=150, score=0.729614 -   0.2s\n",
      "[CV] n_estimators=150 ................................................\n",
      "[CV] ....................... n_estimators=150, score=0.772532 -   0.2s\n",
      "[CV] n_estimators=200 ................................................\n",
      "[CV] ....................... n_estimators=200, score=0.726496 -   0.2s\n",
      "[CV] n_estimators=200 ................................................\n",
      "[CV] ....................... n_estimators=200, score=0.721030 -   0.3s\n",
      "[CV] n_estimators=200 ................................................\n",
      "[CV] ....................... n_estimators=200, score=0.759657 -   0.3s\n",
      "[CV] n_estimators=300 ................................................\n",
      "[CV] ....................... n_estimators=300, score=0.735043 -   0.6s\n",
      "[CV] n_estimators=300 ................................................\n",
      "[CV] ....................... n_estimators=300, score=0.729614 -   0.5s\n",
      "[CV] n_estimators=300 ................................................\n",
      "[CV] ....................... n_estimators=300, score=0.781116 -   0.4s\n",
      "[CV] n_estimators=400 ................................................\n",
      "[CV] ....................... n_estimators=400, score=0.730769 -   0.8s\n",
      "[CV] n_estimators=400 ................................................\n",
      "[CV] ....................... n_estimators=400, score=0.725322 -   1.3s\n",
      "[CV] n_estimators=400 ................................................\n",
      "[CV] ....................... n_estimators=400, score=0.772532 -   1.2s\n"
     ]
    },
    {
     "name": "stderr",
     "output_type": "stream",
     "text": [
      "[Parallel(n_jobs=1)]: Done  21 out of  21 | elapsed:    8.4s finished\n"
     ]
    },
    {
     "data": {
      "text/plain": [
       "GridSearchCV(cv=None, error_score='raise',\n",
       "       estimator=RandomForestClassifier(bootstrap=True, class_weight=None, criterion='gini',\n",
       "            max_depth=None, max_features='auto', max_leaf_nodes=None,\n",
       "            min_impurity_decrease=0.0, min_impurity_split=None,\n",
       "            min_samples_leaf=1, min_samples_split=2,\n",
       "            min_weight_fraction_leaf=0.0, n_estimators=10, n_jobs=1,\n",
       "            oob_score=False, random_state=None, verbose=0,\n",
       "            warm_start=False),\n",
       "       fit_params={}, iid=True, n_jobs=1,\n",
       "       param_grid={'n_estimators': [10, 50, 100, 150, 200, 300, 400]},\n",
       "       pre_dispatch='2*n_jobs', refit=True, scoring=None, verbose=3)"
      ]
     },
     "execution_count": 289,
     "metadata": {},
     "output_type": "execute_result"
    }
   ],
   "source": [
    "grid1 = GridSearchCV(RandomForestClassifier(), param_grid, refit=True, verbose = 3)\n",
    "grid1.fit(X1_train, y1_train)"
   ]
  },
  {
   "cell_type": "code",
   "execution_count": 290,
   "metadata": {},
   "outputs": [
    {
     "data": {
      "text/plain": [
       "RandomForestClassifier(bootstrap=True, class_weight=None, criterion='gini',\n",
       "            max_depth=None, max_features='auto', max_leaf_nodes=None,\n",
       "            min_impurity_decrease=0.0, min_impurity_split=None,\n",
       "            min_samples_leaf=1, min_samples_split=2,\n",
       "            min_weight_fraction_leaf=0.0, n_estimators=100, n_jobs=1,\n",
       "            oob_score=False, random_state=None, verbose=0,\n",
       "            warm_start=False)"
      ]
     },
     "execution_count": 290,
     "metadata": {},
     "output_type": "execute_result"
    }
   ],
   "source": [
    "grid1.best_estimator_"
   ]
  },
  {
   "cell_type": "code",
   "execution_count": 291,
   "metadata": {},
   "outputs": [
    {
     "data": {
      "text/plain": [
       "{'n_estimators': 100}"
      ]
     },
     "execution_count": 291,
     "metadata": {},
     "output_type": "execute_result"
    }
   ],
   "source": [
    "grid1.best_params_"
   ]
  },
  {
   "cell_type": "code",
   "execution_count": 292,
   "metadata": {},
   "outputs": [
    {
     "name": "stdout",
     "output_type": "stream",
     "text": [
      "             precision    recall  f1-score   support\n",
      "\n",
      "          0       0.73      0.95      0.83       204\n",
      "          1       0.72      0.27      0.39        96\n",
      "\n",
      "avg / total       0.73      0.73      0.69       300\n",
      "\n",
      "/\n",
      "[[194  10]\n",
      " [ 70  26]]\n"
     ]
    }
   ],
   "source": [
    "grid_rfc1_prediction = grid1.predict(X1_test)\n",
    "print(classification_report(y1_test,grid_rfc1_prediction))\n",
    "print('/')\n",
    "print(confusion_matrix(y1_test,grid_rfc1_prediction))"
   ]
  },
  {
   "cell_type": "code",
   "execution_count": 293,
   "metadata": {
    "collapsed": true
   },
   "outputs": [],
   "source": [
    "# We can clearly see that the F1-score got increased from decision tree to Random forest and then Grid Search Cross Validaiton\n",
    "# Decision Tree = 0.66\n",
    "# Random Forest = 0.67\n",
    "# Grid Search CV = 0.69"
   ]
  },
  {
   "cell_type": "code",
   "execution_count": null,
   "metadata": {
    "collapsed": true
   },
   "outputs": [],
   "source": []
  }
 ],
 "metadata": {
  "kernelspec": {
   "display_name": "Python 3",
   "language": "python",
   "name": "python3"
  },
  "language_info": {
   "codemirror_mode": {
    "name": "ipython",
    "version": 3
   },
   "file_extension": ".py",
   "mimetype": "text/x-python",
   "name": "python",
   "nbconvert_exporter": "python",
   "pygments_lexer": "ipython3",
   "version": "3.6.2"
  }
 },
 "nbformat": 4,
 "nbformat_minor": 2
}
